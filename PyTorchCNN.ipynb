{
  "nbformat": 4,
  "nbformat_minor": 0,
  "metadata": {
    "colab": {
      "provenance": [],
      "gpuType": "T4",
      "cell_execution_strategy": "setup",
      "authorship_tag": "ABX9TyOgDC7zxN6M5CsMtp4yqEqV"
    },
    "kernelspec": {
      "name": "python3",
      "display_name": "Python 3"
    },
    "language_info": {
      "name": "python"
    },
    "accelerator": "GPU"
  },
  "cells": [
    {
      "cell_type": "markdown",
      "source": [
        "# Outline\n",
        "- Download the dataset(CIFAR-10)\n",
        "- Dataloader in torch.utils.data\n",
        "- Visualizing images\n",
        "- Single and multiple convolutional layers\n",
        "- LeNet\n",
        "- Training Lenet\n",
        "- Training on GPU\n",
        "- Simple Visualization\n",
        "- Exercises"
      ],
      "metadata": {
        "id": "EeZR2OBWsP9Z"
      }
    },
    {
      "cell_type": "code",
      "source": [
        "import torch\n",
        "import matplotlib.pyplot as plt\n",
        "import numpy as np"
      ],
      "metadata": {
        "id": "AVFGdGZEtFYt"
      },
      "execution_count": 3,
      "outputs": []
    },
    {
      "cell_type": "markdown",
      "source": [
        "# Data Loading"
      ],
      "metadata": {
        "id": "7SuBlBNDtQHu"
      }
    },
    {
      "cell_type": "code",
      "source": [
        "import torchvision\n",
        "from torchvision.transforms import transforms\n",
        "trainset = torchvision.datasets.CIFAR10(root='./data', train=True,\n",
        "  download=True, transform=transforms.ToTensor())\n",
        "trainloader = torch.utils.data.DataLoader(trainset, batch_size=4,\n",
        "  shuffle=True)"
      ],
      "metadata": {
        "colab": {
          "base_uri": "https://localhost:8080/"
        },
        "id": "g7Ky8MdLtV_x",
        "outputId": "71133b3c-2888-4ffd-93e2-f52bcdd3a0de"
      },
      "execution_count": 4,
      "outputs": [
        {
          "output_type": "stream",
          "name": "stdout",
          "text": [
            "Downloading https://www.cs.toronto.edu/~kriz/cifar-10-python.tar.gz to ./data/cifar-10-python.tar.gz\n"
          ]
        },
        {
          "output_type": "stream",
          "name": "stderr",
          "text": [
            "100%|██████████| 170498071/170498071 [00:03<00:00, 53422168.58it/s]\n"
          ]
        },
        {
          "output_type": "stream",
          "name": "stdout",
          "text": [
            "Extracting ./data/cifar-10-python.tar.gz to ./data\n"
          ]
        }
      ]
    },
    {
      "cell_type": "code",
      "source": [
        "classes = ('plane', 'car', 'bird', 'cat','deer', 'dog', 'frog', 'horse', 'ship', 'truck')"
      ],
      "metadata": {
        "id": "Iay6hgxyt7wD"
      },
      "execution_count": 5,
      "outputs": []
    },
    {
      "cell_type": "code",
      "source": [
        "for images, labels in trainloader:\n",
        "    print(images.shape)\n",
        "    print(images[0].shape)\n",
        "    print(labels[0].item())\n",
        "    break  # Exit the loop after printing the first batch\n",
        "\n"
      ],
      "metadata": {
        "colab": {
          "base_uri": "https://localhost:8080/"
        },
        "id": "5JqWvEmPuMut",
        "outputId": "fac78f66-cb64-4951-8300-d8396f7f0589"
      },
      "execution_count": 6,
      "outputs": [
        {
          "output_type": "stream",
          "name": "stdout",
          "text": [
            "torch.Size([4, 3, 32, 32])\n",
            "torch.Size([3, 32, 32])\n",
            "1\n"
          ]
        }
      ]
    },
    {
      "cell_type": "markdown",
      "source": [
        "# Visualizing data"
      ],
      "metadata": {
        "id": "keqDom32vUxB"
      }
    },
    {
      "cell_type": "code",
      "source": [
        "img = images[1]\n",
        "print(type(img))\n"
      ],
      "metadata": {
        "colab": {
          "base_uri": "https://localhost:8080/"
        },
        "id": "4S1PMZBcvyUX",
        "outputId": "0ec2b726-b09f-4992-964e-dfd9cdc92281"
      },
      "execution_count": 7,
      "outputs": [
        {
          "output_type": "stream",
          "name": "stdout",
          "text": [
            "<class 'torch.Tensor'>\n"
          ]
        }
      ]
    },
    {
      "cell_type": "code",
      "source": [
        "npimg = img.numpy()\n",
        "print(npimg.shape)"
      ],
      "metadata": {
        "colab": {
          "base_uri": "https://localhost:8080/"
        },
        "id": "W-BMJkMVzt-U",
        "outputId": "7d25afce-dcb9-4a3a-a3f6-845bfb5a503e"
      },
      "execution_count": 8,
      "outputs": [
        {
          "output_type": "stream",
          "name": "stdout",
          "text": [
            "(3, 32, 32)\n"
          ]
        }
      ]
    },
    {
      "cell_type": "code",
      "source": [
        "npimg = np.transpose(npimg, (1, 2, 0))\n",
        "print(npimg.shape)\n",
        "plt.figure(figsize = (1,1))\n",
        "plt.imshow(npimg)\n",
        "plt.show()"
      ],
      "metadata": {
        "colab": {
          "base_uri": "https://localhost:8080/",
          "height": 159
        },
        "id": "CmIKVZNYzt7T",
        "outputId": "c2371b0e-4017-46dc-f3eb-e4ef653fdebd"
      },
      "execution_count": 9,
      "outputs": [
        {
          "output_type": "stream",
          "name": "stdout",
          "text": [
            "(32, 32, 3)\n"
          ]
        },
        {
          "output_type": "display_data",
          "data": {
            "text/plain": [
              "<Figure size 100x100 with 1 Axes>"
            ],
            "image/png": "[encoded data removed]"
          },
          "metadata": {}
        }
      ]
    },
    {
      "cell_type": "code",
      "source": [
        "def imshow(img):\n",
        "  npimg = img.numpy()\n",
        "  plt.imshow(np.transpose(npimg, (1, 2, 0)))\n",
        "  plt.show()"
      ],
      "metadata": {
        "id": "TIdtZaL2zt3n"
      },
      "execution_count": 10,
      "outputs": []
    },
    {
      "cell_type": "code",
      "source": [
        "imshow (torchvision.utils.make_grid(images))\n",
        "print(' '.join(classes[labels[j]] for j in range(4)))"
      ],
      "metadata": {
        "colab": {
          "base_uri": "https://localhost:8080/",
          "height": 210
        },
        "id": "7fMrT_Wz04Us",
        "outputId": "8cf22136-3687-46f4-d3bc-86b4edb5dfbe"
      },
      "execution_count": 11,
      "outputs": [
        {
          "output_type": "display_data",
          "data": {
            "text/plain": [
              "<Figure size 640x480 with 1 Axes>"
            ],
            "image/png": "[encoded data removed]"
          },
          "metadata": {}
        },
        {
          "output_type": "stream",
          "name": "stdout",
          "text": [
            "car car horse frog\n"
          ]
        }
      ]
    },
    {
      "cell_type": "markdown",
      "source": [
        "# Single convolutional layers"
      ],
      "metadata": {
        "id": "cudaT4HR08ow"
      }
    },
    {
      "cell_type": "code",
      "source": [
        "import torch.nn as nn\n",
        "\n",
        "class FirstCNN(nn.Module):\n",
        "  def __init__(self):\n",
        "    super(FirstCNN, self).__init__()\n",
        "    self.conv1 = nn.Conv2d(3, 16, 3, padding=(1,1)) #stride=2, padding=1)\n",
        "\n",
        "\n",
        "  def forward(self, x):\n",
        "    x = self.conv1(x)\n",
        "    return x"
      ],
      "metadata": {
        "id": "D8fmRWyE1D3x"
      },
      "execution_count": 12,
      "outputs": []
    },
    {
      "cell_type": "code",
      "source": [
        "net = FirstCNN()"
      ],
      "metadata": {
        "id": "J95NvkMI117K"
      },
      "execution_count": 13,
      "outputs": []
    },
    {
      "cell_type": "code",
      "source": [
        "out = net(images)\n",
        "out.shape"
      ],
      "metadata": {
        "colab": {
          "base_uri": "https://localhost:8080/"
        },
        "id": "gfc7pZwJ138O",
        "outputId": "5fcc8cc6-5a49-4495-f51c-3d598962516f"
      },
      "execution_count": 14,
      "outputs": [
        {
          "output_type": "execute_result",
          "data": {
            "text/plain": [
              "torch.Size([4, 16, 32, 32])"
            ]
          },
          "metadata": {},
          "execution_count": 14
        }
      ]
    },
    {
      "cell_type": "code",
      "source": [
        "for param in net.parameters():\n",
        "  print(param.shape)"
      ],
      "metadata": {
        "colab": {
          "base_uri": "https://localhost:8080/"
        },
        "id": "NYpKvceg17PX",
        "outputId": "fcb061bf-6841-4e19-f31f-ae25e4597483"
      },
      "execution_count": 15,
      "outputs": [
        {
          "output_type": "stream",
          "name": "stdout",
          "text": [
            "torch.Size([16, 3, 3, 3])\n",
            "torch.Size([16])\n"
          ]
        }
      ]
    },
    {
      "cell_type": "code",
      "source": [
        "out1 = out[0, 0, :, :].detach().numpy()\n",
        "print(out1.shape)"
      ],
      "metadata": {
        "colab": {
          "base_uri": "https://localhost:8080/"
        },
        "id": "wiEHhatE1-tP",
        "outputId": "4b99be9f-8b48-4fa8-8003-19b35dba9152"
      },
      "execution_count": 16,
      "outputs": [
        {
          "output_type": "stream",
          "name": "stdout",
          "text": [
            "(32, 32)\n"
          ]
        }
      ]
    },
    {
      "cell_type": "code",
      "source": [
        "plt.imshow(out[0, 0, :, :].detach().numpy())\n",
        "plt.show()"
      ],
      "metadata": {
        "colab": {
          "base_uri": "https://localhost:8080/",
          "height": 430
        },
        "id": "mbiVqnGU2E-I",
        "outputId": "718e339c-bd1d-4496-c99b-015154bb4815"
      },
      "execution_count": 17,
      "outputs": [
        {
          "output_type": "display_data",
          "data": {
            "text/plain": [
              "<Figure size 640x480 with 1 Axes>"
            ],
            "image/png": "[encoded data removed]"
          },
          "metadata": {}
        }
      ]
    },
    {
      "cell_type": "markdown",
      "source": [
        "# Deep CNN"
      ],
      "metadata": {
        "id": "J_T6HcTq2baC"
      }
    },
    {
      "cell_type": "code",
      "source": [
        "class FirstCNN_v2(nn.Module):\n",
        "  def __init__(self):\n",
        "    super(FirstCNN_v2, self).__init__()\n",
        "    self.model = nn.Sequential(\n",
        "        nn.Conv2d(3, 8, 3), # (N, 3, 32, 32) -> (N, 8, 30, 30)\n",
        "        nn.Conv2d(8, 16, 3) # (N, 8, 30, 30) -> (N, 16, 28, 28)\n",
        "    )\n",
        "\n",
        "  def forward(self, x):\n",
        "      x = self.model(x)\n",
        "      return x"
      ],
      "metadata": {
        "id": "kKJAaCZx3hFm"
      },
      "execution_count": 18,
      "outputs": []
    },
    {
      "cell_type": "code",
      "source": [
        "net_v2 = FirstCNN_v2()\n",
        "out = net_v2(images)\n",
        "out.shape"
      ],
      "metadata": {
        "colab": {
          "base_uri": "https://localhost:8080/"
        },
        "id": "UJdNZAmz3xrE",
        "outputId": "968c498a-10fd-493c-f847-44b6c09bf9e2"
      },
      "execution_count": 19,
      "outputs": [
        {
          "output_type": "execute_result",
          "data": {
            "text/plain": [
              "torch.Size([4, 16, 28, 28])"
            ]
          },
          "metadata": {},
          "execution_count": 19
        }
      ]
    },
    {
      "cell_type": "code",
      "source": [
        "plt.imshow(out[0, 0, :, :].detach().numpy())\n",
        "plt.show()"
      ],
      "metadata": {
        "colab": {
          "base_uri": "https://localhost:8080/",
          "height": 430
        },
        "id": "uh6zTejR34nt",
        "outputId": "850d4b2e-4432-4c52-8fa8-65dd63616b21"
      },
      "execution_count": 20,
      "outputs": [
        {
          "output_type": "display_data",
          "data": {
            "text/plain": [
              "<Figure size 640x480 with 1 Axes>"
            ],
            "image/png": "[encoded data removed]"
          },
          "metadata": {}
        }
      ]
    },
    {
      "cell_type": "code",
      "source": [
        "class FirstCNN_v3(nn.Module):\n",
        "  def __init__ (self):\n",
        "    super(FirstCNN_v3, self).__init__()\n",
        "    self.model = nn.Sequential(\n",
        "        nn.Conv2d(3, 6, 5), # (N, 3, 32, 32) -> (N, 6, 28, 28)\n",
        "        nn.AvgPool2d(2, stride=2), # (N, 6, 28, 28) -> (N, 6, 14, 14)\n",
        "        nn.Conv2d(6, 16, 5), # (N, 6, 14, 14) -> (N, 16, 10, 10)\n",
        "        nn.AvgPool2d(2, stride=2) # (N, 16, 10, 10) -> (N, 16, 5, 5)\n",
        "\n",
        "    )\n",
        "\n",
        "  def forward(self, x):\n",
        "    x = self.model(x)\n",
        "    return x"
      ],
      "metadata": {
        "id": "3MujVAHC37Ks"
      },
      "execution_count": 21,
      "outputs": []
    },
    {
      "cell_type": "code",
      "source": [
        "net_v3 = FirstCNN_v3()\n",
        "out = net_v3(images)\n",
        "out.shape"
      ],
      "metadata": {
        "colab": {
          "base_uri": "https://localhost:8080/"
        },
        "id": "ui7-i_O84Zvk",
        "outputId": "f805339f-8484-4b64-e2b1-8bc4d187ed5b"
      },
      "execution_count": 22,
      "outputs": [
        {
          "output_type": "execute_result",
          "data": {
            "text/plain": [
              "torch.Size([4, 16, 5, 5])"
            ]
          },
          "metadata": {},
          "execution_count": 22
        }
      ]
    },
    {
      "cell_type": "code",
      "source": [
        "plt.imshow(out[0, 0, :, :].detach().numpy())\n",
        "plt.show()"
      ],
      "metadata": {
        "colab": {
          "base_uri": "https://localhost:8080/",
          "height": 430
        },
        "id": "o8Xj7jGQ4bm4",
        "outputId": "369975fe-90af-455b-cfc1-29d493a161fd"
      },
      "execution_count": 23,
      "outputs": [
        {
          "output_type": "display_data",
          "data": {
            "text/plain": [
              "<Figure size 640x480 with 1 Axes>"
            ],
            "image/png": "[encoded data removed]"
          },
          "metadata": {}
        }
      ]
    },
    {
      "cell_type": "markdown",
      "source": [
        "# LeNet"
      ],
      "metadata": {
        "id": "PWQmLkNP4egQ"
      }
    },
    {
      "cell_type": "code",
      "source": [
        "class LeNet(nn.Module):\n",
        "  def __init__(self):\n",
        "    super(LeNet, self).__init__()\n",
        "    self.cnn_model = nn.Sequential(\n",
        "        nn.Conv2d(3, 6, 5), # (N, 3, 32, 32) -> (N, 6, 28, 28)\n",
        "        nn.Tanh(),\n",
        "        nn.AvgPool2d(2, stride=2), # (N, 6, 28, 28) -> (N, 6, 14, 14)\n",
        "        nn.Conv2d(6, 16, 5), # (N, 6, 14, 14) -> (N, 16, 10, 10)\n",
        "        nn.Tanh(),\n",
        "        nn.AvgPool2d(2, stride=2) # (N, 16, 10, 10) -> (N, 16, 5, 5)\n",
        "\n",
        "    )\n",
        "    self.fc_model = nn.Sequential(\n",
        "        nn.Linear(400, 120), # (N, 400) -> (N, 120)\n",
        "        nn.Tanh(),\n",
        "        nn.Linear(120, 84), # (N, 120) -> (N, 84)\n",
        "        nn.Tanh(),\n",
        "        nn.Linear(84, 10) # (N, 84) -> (N, 10)\n",
        "\n",
        "\n",
        "    )\n",
        "  def forward(self, x):\n",
        "      print(x.shape)\n",
        "      features = self.cnn_model(x)\n",
        "      print(features.shape)\n",
        "      features = features.view(x.shape[0], -1)\n",
        "      print(features.shape)\n",
        "      x = self.fc_model(features)\n",
        "      print(x.shape)\n",
        "      return x"
      ],
      "metadata": {
        "id": "wNeadCnk80K3"
      },
      "execution_count": 24,
      "outputs": []
    },
    {
      "cell_type": "code",
      "source": [
        "net_le = LeNet()\n",
        "out = net_le(images)\n",
        "out.shape"
      ],
      "metadata": {
        "colab": {
          "base_uri": "https://localhost:8080/"
        },
        "id": "BnZ7DUWV9xog",
        "outputId": "b27aad62-cfa9-4531-e126-350a556e1c46"
      },
      "execution_count": 25,
      "outputs": [
        {
          "output_type": "stream",
          "name": "stdout",
          "text": [
            "torch.Size([4, 3, 32, 32])\n",
            "torch.Size([4, 16, 5, 5])\n",
            "torch.Size([4, 400])\n",
            "torch.Size([4, 10])\n"
          ]
        },
        {
          "output_type": "execute_result",
          "data": {
            "text/plain": [
              "torch.Size([4, 10])"
            ]
          },
          "metadata": {},
          "execution_count": 25
        }
      ]
    },
    {
      "cell_type": "code",
      "source": [
        "print(out)"
      ],
      "metadata": {
        "colab": {
          "base_uri": "https://localhost:8080/"
        },
        "id": "XgtqzguB-LRB",
        "outputId": "c6244a95-f3b4-461d-f5e9-77eef0def20e"
      },
      "execution_count": 26,
      "outputs": [
        {
          "output_type": "stream",
          "name": "stdout",
          "text": [
            "tensor([[-0.1405, -0.0132,  0.0718,  0.0093,  0.1132, -0.1022,  0.0283, -0.0399,\n",
            "          0.0581, -0.0089],\n",
            "        [-0.1576, -0.0251,  0.0720,  0.0086,  0.1109, -0.1030,  0.0237, -0.0401,\n",
            "          0.0567, -0.0231],\n",
            "        [-0.1561, -0.0051,  0.0713,  0.0172,  0.1088, -0.0947,  0.0174, -0.0535,\n",
            "          0.0406, -0.0147],\n",
            "        [-0.1419, -0.0225,  0.0710,  0.0070,  0.1141, -0.0991,  0.0309, -0.0538,\n",
            "          0.0532, -0.0119]], grad_fn=<AddmmBackward0>)\n"
          ]
        }
      ]
    },
    {
      "cell_type": "code",
      "source": [
        "max_values, pred_class = torch.max(out.data, 1)\n",
        "print(pred_class)"
      ],
      "metadata": {
        "colab": {
          "base_uri": "https://localhost:8080/"
        },
        "id": "ebtqaWRu-gVr",
        "outputId": "a2c99f51-c96e-4fb1-c0bb-d17c0fe8a9a2"
      },
      "execution_count": 27,
      "outputs": [
        {
          "output_type": "stream",
          "name": "stdout",
          "text": [
            "tensor([4, 4, 4, 4])\n"
          ]
        }
      ]
    },
    {
      "cell_type": "markdown",
      "source": [
        "# Training Lenet"
      ],
      "metadata": {
        "id": "pWNC-LfT-lCz"
      }
    },
    {
      "cell_type": "code",
      "source": [
        "class LeNet(nn.Module):\n",
        "  def __init__(self):\n",
        "    super(LeNet, self).__init__()\n",
        "    self.cnn_model = nn.Sequential(\n",
        "        nn.Conv2d(3, 6, 5), # (N, 3, 32, 32) -> (N, 6, 28, 28)\n",
        "        nn.Tanh(),\n",
        "        nn.AvgPool2d(2, stride=2), # (N, 6, 28, 28) -> (N, 6, 14, 14)\n",
        "        nn.Conv2d(6, 16, 5), # (N, 6, 14, 14) -> (N, 16, 10, 10)\n",
        "        nn.Tanh(),\n",
        "        nn.AvgPool2d(2, stride=2) # (N, 16, 10, 10) -> (N, 16, 5, 5)\n",
        "\n",
        "    )\n",
        "    self.fc_model = nn.Sequential(\n",
        "        nn.Linear(400, 120), # (N, 400) -> (N, 120)\n",
        "        nn.Tanh(),\n",
        "        nn.Linear(120, 84), # (N, 120) -> (N, 84)\n",
        "        nn.Tanh(),\n",
        "        nn.Linear(84, 10) # (N, 84) -> (N, 10)\n",
        "\n",
        "\n",
        "    )\n",
        "  def forward(self, x):\n",
        "      print(x.shape)\n",
        "      features = self.cnn_model(x)\n",
        "      features = features.view(x.shape[0], -1)\n",
        "      x = self.fc_model(features)\n",
        "\n",
        "      return x\n",
        "\n"
      ],
      "metadata": {
        "id": "YYHq7E-o-tVk"
      },
      "execution_count": 28,
      "outputs": []
    },
    {
      "cell_type": "code",
      "source": [
        "batch_size = 128\n",
        "trainset = torchvision.datasets.CIFAR10(root='./data', train=True, download=True, transform=transforms.ToTensor())\n",
        "trainloader = torch.utils.data.DataLoader(trainset, batch_size=batch_size, shuffle=True)\n",
        "testset = torchvision.datasets.CIFAR10(root='./data', train=False, download=True, transform=transforms.ToTensor())\n",
        "testloader = torch.utils.data.DataLoader(testset, batch_size=batch_size, shuffle=False)\n"
      ],
      "metadata": {
        "colab": {
          "base_uri": "https://localhost:8080/"
        },
        "id": "4ipBI-VV_nsH",
        "outputId": "b89b6c15-d251-4eb6-d981-bab1ce08513f"
      },
      "execution_count": 29,
      "outputs": [
        {
          "output_type": "stream",
          "name": "stdout",
          "text": [
            "Files already downloaded and verified\n",
            "Files already downloaded and verified\n"
          ]
        }
      ]
    },
    {
      "cell_type": "code",
      "source": [
        "def evaluate(dataloader):\n",
        "  total, correct = 0, 0\n",
        "  for data in dataloader:\n",
        "    inputs, labels = data\n",
        "    outputs = net(inputs)\n",
        "    _, pred = torch.max(outputs.data, 1)\n",
        "    total += labels.size(0)\n",
        "    correct += (pred == labels).sum().item()\n",
        "\n",
        "  return 100 * correct / total"
      ],
      "metadata": {
        "id": "nn60G6Jl_nn-"
      },
      "execution_count": 30,
      "outputs": []
    },
    {
      "cell_type": "code",
      "source": [
        "net = LeNet()"
      ],
      "metadata": {
        "id": "Oi-qkrfL_ngu"
      },
      "execution_count": 31,
      "outputs": []
    },
    {
      "cell_type": "code",
      "source": [
        "import torch.optim as optim\n",
        "\n",
        "loss_function = nn.CrossEntropyLoss()\n",
        "optimizer = optim.Adam(net.parameters())"
      ],
      "metadata": {
        "id": "832oss_WAl8q"
      },
      "execution_count": 32,
      "outputs": []
    },
    {
      "cell_type": "code",
      "source": [
        "%%time\n",
        "\n",
        "loss_arr = []\n",
        "loss_epoch_arr = []\n",
        "max_epochs = 16\n",
        "n_batches_avg = 100  # Number of batches to average the loss over\n",
        "\n",
        "for epoch in range(max_epochs):\n",
        "    running_loss = 0.0\n",
        "    for i, data in enumerate(trainloader, 0):\n",
        "        inputs, labels = data\n",
        "        optimizer.zero_grad()\n",
        "        outputs = net(inputs)\n",
        "        loss = loss_function(outputs, labels)\n",
        "        loss.backward()\n",
        "        optimizer.step()\n",
        "        running_loss += loss.item()\n",
        "        if i % n_batches_avg == n_batches_avg - 1:\n",
        "            avg_loss = running_loss / n_batches_avg\n",
        "            loss_arr.append(avg_loss)\n",
        "            running_loss = 0.0\n",
        "\n",
        "    # Calculate validation loss\n",
        "    val_loss = 0.0\n",
        "    with torch.no_grad():\n",
        "        for data in testloader:\n",
        "            inputs, labels = data\n",
        "            outputs = net(inputs)\n",
        "            val_loss += loss_function(outputs, labels).item()\n",
        "    val_loss /= len(testloader)\n",
        "    loss_epoch_arr.append(val_loss)\n",
        "\n",
        "    print('Epoch: %d/%d, Test loss: %0.2f, Train loss: %0.2f' % (\n",
        "        epoch, max_epochs, val_loss, loss_arr[-1]))\n",
        "\n",
        "plt.plot(loss_epoch_arr, label='Validation Loss')\n",
        "plt.plot(loss_arr, label='Train Loss')\n",
        "plt.legend()\n",
        "plt.show()\n"
      ],
      "metadata": {
        "id": "XbdrDTKaB-8W"
      },
      "execution_count": null,
      "outputs": []
    },
    {
      "cell_type": "markdown",
      "source": [
        "# Move to GPU"
      ],
      "metadata": {
        "id": "C62SSDpDFHJW"
      }
    },
    {
      "cell_type": "code",
      "source": [
        "device = torch.device(\"cuda:0\" if torch.cuda.is_available() else \"cpu\")"
      ],
      "metadata": {
        "id": "qZjLV9PHFb50"
      },
      "execution_count": 35,
      "outputs": []
    },
    {
      "cell_type": "code",
      "source": [
        "def evaluate(dataloader):\n",
        "  total, correct = 0, 0\n",
        "  with torch.no_grad():\n",
        "    for data in dataloader:\n",
        "      inputs, labels = data\n",
        "      inputs, labels = inputs.to(device), labels.to(device)\n",
        "      outputs = net(inputs)\n",
        "      _, pred = torch.max(outputs.data, 1)\n",
        "      total += labels.size(0)\n",
        "      correct += (pred == labels).sum().item()\n",
        "\n",
        "  return 100 * correct / total"
      ],
      "metadata": {
        "id": "quxYE9YdFiFg"
      },
      "execution_count": 36,
      "outputs": []
    },
    {
      "cell_type": "code",
      "source": [
        "net = LeNet().to(device)\n",
        "\n",
        "loss_function = nn.CrossEntropyLoss()\n",
        "optimizer = optim.Adam(net.parameters())\n"
      ],
      "metadata": {
        "id": "HATa-BCFFh7j"
      },
      "execution_count": 37,
      "outputs": []
    },
    {
      "cell_type": "code",
      "source": [
        "# %%time\n",
        "\n",
        "# loss_arr = []\n",
        "# loss_epoch_arr = []\n",
        "# max_epochs = 16\n",
        "# n_batches_avg = 100  # Number of batches to average the loss over\n",
        "\n",
        "# for epoch in range(max_epochs):\n",
        "#     running_loss = 0.0\n",
        "#     for i, data in enumerate(trainloader, 0):\n",
        "#         inputs, labels = data\n",
        "#         optimizer.zero_grad()\n",
        "#         outputs = net(inputs)\n",
        "#         loss = loss_function(outputs, labels)\n",
        "#         loss.backward()\n",
        "#         optimizer.step()\n",
        "#         running_loss += loss.item()\n",
        "#         if i % n_batches_avg == n_batches_avg - 1:\n",
        "#             avg_loss = running_loss / n_batches_avg\n",
        "#             loss_arr.append(avg_loss)\n",
        "#             running_loss = 0.0\n",
        "\n",
        "#     # Calculate validation loss\n",
        "#     val_loss = 0.0\n",
        "#     with torch.no_grad():\n",
        "#         for data in testloader:\n",
        "#             inputs, labels = data\n",
        "#             outputs = net(inputs)\n",
        "#             val_loss += loss_function(outputs, labels).item()\n",
        "#     val_loss /= len(testloader)\n",
        "#     loss_epoch_arr.append(val_loss)\n",
        "\n",
        "#     print('Epoch: %d/%d, Test loss: %0.2f, Train loss: %0.2f' % (\n",
        "#         epoch, max_epochs, val_loss, loss_arr[-1]))\n",
        "\n",
        "# plt.plot(loss_epoch_arr, label='Validation Loss')\n",
        "# plt.plot(loss_arr, label='Train Loss')\n",
        "# plt.legend()\n",
        "# plt.show()\n"
      ],
      "metadata": {
        "id": "7ps2_QVGHyMa"
      },
      "execution_count": 41,
      "outputs": []
    },
    {
      "cell_type": "code",
      "source": [
        "# print(\"Test Accuracy: %0.2f, Train Accuracy: %0.2f\" % evaluate(testloader), evaluate(trainloader))"
      ],
      "metadata": {
        "id": "sEDEhuEdISw1"
      },
      "execution_count": 40,
      "outputs": []
    },
    {
      "cell_type": "markdown",
      "source": [
        "# Basic Visualization"
      ],
      "metadata": {
        "id": "nWNdVDlTItex"
      }
    },
    {
      "cell_type": "code",
      "source": [
        "imshow(torchvision.utils.make_grid(images))"
      ],
      "metadata": {
        "colab": {
          "base_uri": "https://localhost:8080/",
          "height": 193
        },
        "id": "3vtdMhFrItbP",
        "outputId": "15738d00-89d1-46c9-bb83-471db011ff93"
      },
      "execution_count": 42,
      "outputs": [
        {
          "output_type": "display_data",
          "data": {
            "text/plain": [
              "<Figure size 640x480 with 1 Axes>"
            ],
            "image/png": "[encoded data removed]"
          },
          "metadata": {}
        }
      ]
    },
    {
      "cell_type": "code",
      "source": [
        "net = net.to('cpu')\n"
      ],
      "metadata": {
        "id": "41nsXyYWI-_s"
      },
      "execution_count": 44,
      "outputs": []
    },
    {
      "cell_type": "code",
      "source": [
        "out = net(images)"
      ],
      "metadata": {
        "colab": {
          "base_uri": "https://localhost:8080/"
        },
        "id": "Uutm4owfJHRG",
        "outputId": "47f0b26f-e708-4eb6-8925-d605e483c3c4"
      },
      "execution_count": 48,
      "outputs": [
        {
          "output_type": "stream",
          "name": "stdout",
          "text": [
            "torch.Size([4, 3, 32, 32])\n"
          ]
        }
      ]
    },
    {
      "cell_type": "code",
      "source": [
        "out = net.cnn_model[0](images)\n",
        "out.shape"
      ],
      "metadata": {
        "colab": {
          "base_uri": "https://localhost:8080/"
        },
        "id": "oc6Pzmn2JKfu",
        "outputId": "e4dc4a26-76f7-47a5-a710-d867f8e2037e"
      },
      "execution_count": 49,
      "outputs": [
        {
          "output_type": "execute_result",
          "data": {
            "text/plain": [
              "torch.Size([4, 6, 28, 28])"
            ]
          },
          "metadata": {},
          "execution_count": 49
        }
      ]
    },
    {
      "cell_type": "code",
      "source": [
        "image_id = 3\n",
        "plt.figure(figsize=(2,2))\n",
        "imshow(images[image_id,])\n"
      ],
      "metadata": {
        "colab": {
          "base_uri": "https://localhost:8080/",
          "height": 217
        },
        "id": "l2V2K3hzJP8e",
        "outputId": "76b4ff30-732c-45b5-e410-5678d21d8c88"
      },
      "execution_count": 50,
      "outputs": [
        {
          "output_type": "display_data",
          "data": {
            "text/plain": [
              "<Figure size 200x200 with 1 Axes>"
            ],
            "image/png": "[encoded data removed]"
          },
          "metadata": {}
        }
      ]
    },
    {
      "cell_type": "code",
      "source": [
        "plt.figure(figsize=(6,6))\n",
        "plt.subplot(321)\n",
        "for i in range(6):\n",
        "  ax1 = plt.subplot(3, 2, i+1)\n",
        "  ax1.imshow(out[image_id, i, :, :].detach().numpy(), cmap='binary')\n",
        "\n",
        "plt.show()"
      ],
      "metadata": {
        "colab": {
          "base_uri": "https://localhost:8080/",
          "height": 525
        },
        "id": "pW9FxbaZJm2h",
        "outputId": "05fd1b37-935a-4132-e66c-b043e4c7b1ba"
      },
      "execution_count": 53,
      "outputs": [
        {
          "output_type": "display_data",
          "data": {
            "text/plain": [
              "<Figure size 600x600 with 6 Axes>"
            ],
            "image/png": "[encoded data removed]"
          },
          "metadata": {}
        }
      ]
    },
    {
      "cell_type": "markdown",
      "source": [
        "# Exercises\n",
        "\n",
        "- Modify LeNet to work with ReLU instead of Tanh-> What is the impact on training time , final loss\n",
        "- We have observed overfitting -> Use weight decay in torch.optim to add L2 regularization.\n",
        "- Instead of CIFAR10, use MNIST. Download and visualize the dataset\n",
        "- But importantly, MNIST images have only 1 channel instead of 3 channels in the case of CIFAR10. Modify LeNet to work with 1 channel images ,train and find optimized test accuracy."
      ],
      "metadata": {
        "id": "tLNo-Y2KKeZd"
      }
    },
    {
      "cell_type": "code",
      "source": [],
      "metadata": {
        "id": "vyRMhzXzLzQg"
      },
      "execution_count": null,
      "outputs": []
    }
  ]
}