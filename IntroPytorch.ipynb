{
  "nbformat": 4,
  "nbformat_minor": 0,
  "metadata": {
    "colab": {
      "provenance": [],
      "gpuType": "T4",
      "authorship_tag": "ABX9TyMVmQuN/FGfz2qg7hmmybNt"
    },
    "kernelspec": {
      "name": "python3",
      "display_name": "Python 3"
    },
    "language_info": {
      "name": "python"
    },
    "accelerator": "GPU"
  },
  "cells": [
    {
      "cell_type": "markdown",
      "source": [
        "# Outline\n",
        "- PyTorch\n",
        "- What are tensors\n",
        "- Initializing, slicing , reshaping tensors\n",
        "- Numpy and PyTorch interfacing\n",
        "- GPU support for PyTorch + Enabling GPU on Colab\n",
        "- Speed comparisons, Numpy vs PyTorch on GPU\n",
        "- Autograds concepts and application\n",
        "- Writing a basic learning loop using autograd\n",
        "- Exercises"
      ],
      "metadata": {
        "id": "nA7sK84id0Jo"
      }
    },
    {
      "cell_type": "code",
      "source": [
        "import torch\n",
        "import numpy as np\n",
        "import matplotlib.pyplot as plt"
      ],
      "metadata": {
        "id": "ofjqSlsKftcT"
      },
      "execution_count": 1,
      "outputs": []
    },
    {
      "cell_type": "markdown",
      "source": [
        "# Initialise tensors"
      ],
      "metadata": {
        "id": "exScUZV2gXOx"
      }
    },
    {
      "cell_type": "code",
      "source": [
        "x = torch.ones(3,2)\n",
        "print(x)\n",
        "\n",
        "y = torch.rand(3,2)\n",
        "print(y)"
      ],
      "metadata": {
        "colab": {
          "base_uri": "https://localhost:8080/"
        },
        "id": "h0NKifY5geSX",
        "outputId": "45a3dd8a-8e19-45c9-9f38-a8616ef958f8"
      },
      "execution_count": 2,
      "outputs": [
        {
          "output_type": "stream",
          "name": "stdout",
          "text": [
            "tensor([[1., 1.],\n",
            "        [1., 1.],\n",
            "        [1., 1.]])\n",
            "tensor([[0.5226, 0.6428],\n",
            "        [0.1544, 0.0704],\n",
            "        [0.2021, 0.0070]])\n"
          ]
        }
      ]
    },
    {
      "cell_type": "code",
      "source": [
        "x = torch.empty(5,3)\n",
        "print(x)\n",
        "\n",
        "y = torch.zeros_like(x)\n",
        "print(y)"
      ],
      "metadata": {
        "colab": {
          "base_uri": "https://localhost:8080/"
        },
        "id": "OvY-Gk85g8iG",
        "outputId": "fe383041-1484-4c1f-cb5a-cbb5fc81a26b"
      },
      "execution_count": 3,
      "outputs": [
        {
          "output_type": "stream",
          "name": "stdout",
          "text": [
            "tensor([[ 0.0000e+00,  0.0000e+00,  0.0000e+00],\n",
            "        [ 0.0000e+00,  7.5823e+18,  3.2357e-41],\n",
            "        [ 8.1211e+17,  3.2357e-41, -3.3318e+26],\n",
            "        [ 4.3345e-41,  1.4013e-45,  0.0000e+00],\n",
            "        [ 8.4078e-45,  0.0000e+00,  0.0000e+00]])\n",
            "tensor([[0., 0., 0.],\n",
            "        [0., 0., 0.],\n",
            "        [0., 0., 0.],\n",
            "        [0., 0., 0.],\n",
            "        [0., 0., 0.]])\n"
          ]
        }
      ]
    },
    {
      "cell_type": "code",
      "source": [
        "x = torch.linspace(0,1,5)\n",
        "print(x)"
      ],
      "metadata": {
        "colab": {
          "base_uri": "https://localhost:8080/"
        },
        "id": "5R6o0DEHhLCT",
        "outputId": "0d06b206-262d-4323-a948-f58ad8c40d10"
      },
      "execution_count": 4,
      "outputs": [
        {
          "output_type": "stream",
          "name": "stdout",
          "text": [
            "tensor([0.0000, 0.2500, 0.5000, 0.7500, 1.0000])\n"
          ]
        }
      ]
    },
    {
      "cell_type": "code",
      "source": [
        "y = torch.tensor([[1,2],\n",
        " [3,4],\n",
        " [5,6]])\n",
        "print(y)"
      ],
      "metadata": {
        "colab": {
          "base_uri": "https://localhost:8080/"
        },
        "id": "BXr1RDVDhQy7",
        "outputId": "bac054f5-6062-4d6b-fd7f-85905c7d5b2a"
      },
      "execution_count": 5,
      "outputs": [
        {
          "output_type": "stream",
          "name": "stdout",
          "text": [
            "tensor([[1, 2],\n",
            "        [3, 4],\n",
            "        [5, 6]])\n"
          ]
        }
      ]
    },
    {
      "cell_type": "markdown",
      "source": [
        "# Slicing tensors"
      ],
      "metadata": {
        "id": "hdvM1R69hZPk"
      }
    },
    {
      "cell_type": "code",
      "source": [
        "print(y.size())\n",
        "print(y[:,1])\n",
        "print(y[1,:])\n",
        "print(y.view(2,3))"
      ],
      "metadata": {
        "colab": {
          "base_uri": "https://localhost:8080/"
        },
        "id": "NSp84GcHhe5N",
        "outputId": "5987d599-fafd-490a-df67-2f67b93df9cc"
      },
      "execution_count": 6,
      "outputs": [
        {
          "output_type": "stream",
          "name": "stdout",
          "text": [
            "torch.Size([3, 2])\n",
            "tensor([2, 4, 6])\n",
            "tensor([3, 4])\n",
            "tensor([[1, 2, 3],\n",
            "        [4, 5, 6]])\n"
          ]
        }
      ]
    },
    {
      "cell_type": "code",
      "source": [
        "y = x[1]\n",
        "print(y)\n",
        "print(y.item())"
      ],
      "metadata": {
        "colab": {
          "base_uri": "https://localhost:8080/"
        },
        "id": "Ad8V9UushiVN",
        "outputId": "37df00c2-210a-45ef-c587-f9c72dc1cdc3"
      },
      "execution_count": 7,
      "outputs": [
        {
          "output_type": "stream",
          "name": "stdout",
          "text": [
            "tensor(0.2500)\n",
            "0.25\n"
          ]
        }
      ]
    },
    {
      "cell_type": "markdown",
      "source": [
        "# Reshaping tensors"
      ],
      "metadata": {
        "id": "Y5XA4o_YhuRG"
      }
    },
    {
      "cell_type": "code",
      "source": [
        "print (x)\n",
        "z = x.view(-1)\n",
        "print(z)"
      ],
      "metadata": {
        "colab": {
          "base_uri": "https://localhost:8080/"
        },
        "id": "ECM_JlVHiEPK",
        "outputId": "ccc49b7b-a0fe-47bd-d1ea-7ef2f1890ce0"
      },
      "execution_count": 8,
      "outputs": [
        {
          "output_type": "stream",
          "name": "stdout",
          "text": [
            "tensor([0.0000, 0.2500, 0.5000, 0.7500, 1.0000])\n",
            "tensor([0.0000, 0.2500, 0.5000, 0.7500, 1.0000])\n"
          ]
        }
      ]
    },
    {
      "cell_type": "markdown",
      "source": [
        "# Simple Tensor Operations"
      ],
      "metadata": {
        "id": "954ibwgLijZO"
      }
    },
    {
      "cell_type": "code",
      "source": [
        "x = torch.ones(2,2, requires_grad=True)\n",
        "print(x)\n",
        "\n",
        "y = x + 2\n",
        "print(y)\n",
        "\n",
        "z = y * y * 3\n",
        "out = z.mean()\n",
        "print(z, out)"
      ],
      "metadata": {
        "colab": {
          "base_uri": "https://localhost:8080/"
        },
        "id": "fv0I2cQjjNNW",
        "outputId": "5072236f-de3a-4dc0-85cd-c91acd112e43"
      },
      "execution_count": 9,
      "outputs": [
        {
          "output_type": "stream",
          "name": "stdout",
          "text": [
            "tensor([[1., 1.],\n",
            "        [1., 1.]], requires_grad=True)\n",
            "tensor([[3., 3.],\n",
            "        [3., 3.]], grad_fn=<AddBackward0>)\n",
            "tensor([[27., 27.],\n",
            "        [27., 27.]], grad_fn=<MulBackward0>) tensor(27., grad_fn=<MeanBackward0>)\n"
          ]
        }
      ]
    },
    {
      "cell_type": "code",
      "source": [
        "z = y.add_(5)\n",
        "print(z, out)\n",
        "print(y)"
      ],
      "metadata": {
        "colab": {
          "base_uri": "https://localhost:8080/"
        },
        "id": "ROYUiPuajQCM",
        "outputId": "a57df512-a0ec-41c3-deec-3a1c17f4d3b2"
      },
      "execution_count": 10,
      "outputs": [
        {
          "output_type": "stream",
          "name": "stdout",
          "text": [
            "tensor([[8., 8.],\n",
            "        [8., 8.]], grad_fn=<AddBackward0>) tensor(27., grad_fn=<MeanBackward0>)\n",
            "tensor([[8., 8.],\n",
            "        [8., 8.]], grad_fn=<AddBackward0>)\n"
          ]
        }
      ]
    },
    {
      "cell_type": "code",
      "source": [
        "z = y.add(x)\n",
        "print(z, out)\n",
        "print(y)"
      ],
      "metadata": {
        "colab": {
          "base_uri": "https://localhost:8080/"
        },
        "id": "fKZUPP31jUa0",
        "outputId": "5f0386a7-4175-4fff-be41-230869e69339"
      },
      "execution_count": 11,
      "outputs": [
        {
          "output_type": "stream",
          "name": "stdout",
          "text": [
            "tensor([[9., 9.],\n",
            "        [9., 9.]], grad_fn=<AddBackward0>) tensor(27., grad_fn=<MeanBackward0>)\n",
            "tensor([[8., 8.],\n",
            "        [8., 8.]], grad_fn=<AddBackward0>)\n"
          ]
        }
      ]
    },
    {
      "cell_type": "markdown",
      "source": [
        "# Numpy <> PyTorch"
      ],
      "metadata": {
        "id": "g4N0d379jgbm"
      }
    },
    {
      "cell_type": "code",
      "source": [
        "\n",
        "# Creating NumPy arrays\n",
        "a_np = np.array([[1, 2], [3, 4]])\n",
        "b_np = np.array([[5, 6], [7, 8]])\n",
        "\n",
        "# Converting NumPy arrays to PyTorch tensors\n",
        "a = torch.tensor(a_np)\n",
        "b = torch.tensor(b_np)\n",
        "\n",
        "# Checking shapes\n",
        "if a.shape[1] != b.shape[0]:\n",
        "    raise ValueError(\"Shapes mismatch for matrix multiplication\")\n",
        "\n",
        "# Performing matrix multiplication\n",
        "c = torch.matmul(a, b)\n",
        "\n",
        "# Converting result to NumPy array for display\n",
        "c_np = c.numpy()\n",
        "\n",
        "print(\"Matrix A:\")\n",
        "print(a)\n",
        "print(\"\\nMatrix B:\")\n",
        "print(b)\n",
        "print(\"\\nResult:\")\n",
        "print(c_np)\n"
      ],
      "metadata": {
        "id": "TXiOjG1njmt_",
        "colab": {
          "base_uri": "https://localhost:8080/"
        },
        "outputId": "a04c4a99-a417-4e1e-f85d-3e8c60d42123"
      },
      "execution_count": 12,
      "outputs": [
        {
          "output_type": "stream",
          "name": "stdout",
          "text": [
            "Matrix A:\n",
            "tensor([[1, 2],\n",
            "        [3, 4]])\n",
            "\n",
            "Matrix B:\n",
            "tensor([[5, 6],\n",
            "        [7, 8]])\n",
            "\n",
            "Result:\n",
            "[[19 22]\n",
            " [43 50]]\n"
          ]
        }
      ]
    },
    {
      "cell_type": "code",
      "source": [
        "import torch\n",
        "import numpy as np\n",
        "import time\n",
        "\n",
        "# Create large NumPy arrays and PyTorch tensors\n",
        "numpy_array = np.random.rand(1000, 1000)\n",
        "torch_tensor = torch.rand(1000, 1000)\n",
        "\n",
        "# NumPy operation\n",
        "start_time = time.time()\n",
        "result_numpy = np.sqrt(numpy_array)\n",
        "numpy_time = time.time() - start_time\n",
        "\n",
        "# PyTorch operation\n",
        "start_time = time.time()\n",
        "result_torch = torch.sqrt(torch_tensor)\n",
        "torch_time = time.time() - start_time\n",
        "\n",
        "print(\"NumPy time:\", numpy_time)\n",
        "print(\"PyTorch time:\", torch_time)\n"
      ],
      "metadata": {
        "colab": {
          "base_uri": "https://localhost:8080/"
        },
        "id": "Me04cRN5Z2Sl",
        "outputId": "6e4e61ad-29e9-4cc9-9c97-0aa664b97f41"
      },
      "execution_count": 13,
      "outputs": [
        {
          "output_type": "stream",
          "name": "stdout",
          "text": [
            "NumPy time: 0.003112316131591797\n",
            "PyTorch time: 0.017456769943237305\n"
          ]
        }
      ]
    },
    {
      "cell_type": "code",
      "source": [
        "%%time\n",
        "for i  in range (10):\n",
        "  a = np.random.randn(10000, 10000)\n",
        "  b = np.random.randn(10000, 10000)\n",
        "  c = a+b"
      ],
      "metadata": {
        "colab": {
          "base_uri": "https://localhost:8080/"
        },
        "id": "uGBSLhxVbw-1",
        "outputId": "561cdbf2-8d40-45cb-f946-69479c382f61"
      },
      "execution_count": 14,
      "outputs": [
        {
          "output_type": "stream",
          "name": "stdout",
          "text": [
            "CPU times: user 55.8 s, sys: 4.32 s, total: 1min\n",
            "Wall time: 1min 2s\n"
          ]
        }
      ]
    },
    {
      "cell_type": "code",
      "source": [
        "%%time\n",
        "for i  in range (10):\n",
        "  a = torch.randn([10000, 10000])\n",
        "  b = torch.randn([10000, 10000])\n",
        "  c = a+b"
      ],
      "metadata": {
        "colab": {
          "base_uri": "https://localhost:8080/"
        },
        "id": "P-4YlGoJb91Y",
        "outputId": "e651afda-bcf0-4a8a-8df0-e31adb6a19fd"
      },
      "execution_count": 15,
      "outputs": [
        {
          "output_type": "stream",
          "name": "stdout",
          "text": [
            "CPU times: user 14.1 s, sys: 6.65 s, total: 20.8 s\n",
            "Wall time: 19.9 s\n"
          ]
        }
      ]
    },
    {
      "cell_type": "markdown",
      "source": [
        "#CUDA support for PyTorch"
      ],
      "metadata": {
        "id": "YobHKy5qcCB9"
      }
    },
    {
      "cell_type": "code",
      "source": [
        "print(torch.cuda.is_available())"
      ],
      "metadata": {
        "colab": {
          "base_uri": "https://localhost:8080/"
        },
        "id": "KEAt66wQdZgA",
        "outputId": "a2912d6e-16e8-4fad-fd2a-2860ed711ab2"
      },
      "execution_count": 16,
      "outputs": [
        {
          "output_type": "stream",
          "name": "stdout",
          "text": [
            "True\n"
          ]
        }
      ]
    },
    {
      "cell_type": "code",
      "source": [
        "print(torch.cuda.device_count())"
      ],
      "metadata": {
        "colab": {
          "base_uri": "https://localhost:8080/"
        },
        "id": "REpEdWgbe8Go",
        "outputId": "ba8e565b-cd87-4a7d-c2da-ae630a5093ad"
      },
      "execution_count": 17,
      "outputs": [
        {
          "output_type": "stream",
          "name": "stdout",
          "text": [
            "1\n"
          ]
        }
      ]
    },
    {
      "cell_type": "code",
      "source": [
        "print(torch.cuda.get_device_name(0))\n"
      ],
      "metadata": {
        "colab": {
          "base_uri": "https://localhost:8080/"
        },
        "id": "CR7jv5gIe8Du",
        "outputId": "5b5400c2-a0fb-4a51-ee2d-871a80a6c641"
      },
      "execution_count": 19,
      "outputs": [
        {
          "output_type": "stream",
          "name": "stdout",
          "text": [
            "Tesla T4\n"
          ]
        }
      ]
    },
    {
      "cell_type": "code",
      "source": [
        "cuda0 = torch.device('cuda:0')"
      ],
      "metadata": {
        "id": "eB_J1FLke77A"
      },
      "execution_count": 20,
      "outputs": []
    },
    {
      "cell_type": "code",
      "source": [
        "a = torch.ones(2,2, device=cuda0)\n",
        "print(a)\n",
        "b = torch.ones(2,2, device=cuda0)\n",
        "print(b)\n",
        "c = a + b\n",
        "print(c)"
      ],
      "metadata": {
        "colab": {
          "base_uri": "https://localhost:8080/"
        },
        "id": "zKEhtv9Ce7tn",
        "outputId": "183c4ec8-9609-486f-e31b-77e0bf25109e"
      },
      "execution_count": 21,
      "outputs": [
        {
          "output_type": "stream",
          "name": "stdout",
          "text": [
            "tensor([[1., 1.],\n",
            "        [1., 1.]], device='cuda:0')\n",
            "tensor([[1., 1.],\n",
            "        [1., 1.]], device='cuda:0')\n",
            "tensor([[2., 2.],\n",
            "        [2., 2.]], device='cuda:0')\n"
          ]
        }
      ]
    },
    {
      "cell_type": "code",
      "source": [
        "%%time\n",
        "for i  in range (10):\n",
        "  a = np.random.randn(10000, 10000)\n",
        "  b = np.random.randn(10000, 10000)\n",
        "  np.add(b,a)"
      ],
      "metadata": {
        "colab": {
          "base_uri": "https://localhost:8080/"
        },
        "id": "FiaHcr5Efegp",
        "outputId": "8b9e9ff2-9b06-4a18-9eba-a21186322742"
      },
      "execution_count": 22,
      "outputs": [
        {
          "output_type": "stream",
          "name": "stdout",
          "text": [
            "CPU times: user 54.9 s, sys: 4.38 s, total: 59.2 s\n",
            "Wall time: 59.3 s\n"
          ]
        }
      ]
    },
    {
      "cell_type": "code",
      "source": [
        "%%time\n",
        "for i  in range (10):\n",
        "  a = torch.randn([10000, 10000], device=cuda0)\n",
        "  b = torch.randn([10000, 10000], device=cuda0)\n",
        "  c = a+b"
      ],
      "metadata": {
        "colab": {
          "base_uri": "https://localhost:8080/"
        },
        "id": "AU4_RLrmfO5O",
        "outputId": "f1d36a60-c8ee-4428-8acf-5345566126b3"
      },
      "execution_count": 23,
      "outputs": [
        {
          "output_type": "stream",
          "name": "stdout",
          "text": [
            "CPU times: user 1.84 ms, sys: 3.98 ms, total: 5.82 ms\n",
            "Wall time: 16 ms\n"
          ]
        }
      ]
    },
    {
      "cell_type": "code",
      "source": [
        "%%time\n",
        "for i  in range (10):\n",
        "  a = np.random.randn(10000, 10000)\n",
        "  b = np.random.randn(10000, 10000)\n",
        "  np.matmul(b,a)"
      ],
      "metadata": {
        "colab": {
          "base_uri": "https://localhost:8080/"
        },
        "id": "PNOAYunRgpvA",
        "outputId": "e1ae8cb3-7530-4246-a758-ea80dcfb9fc3"
      },
      "execution_count": 24,
      "outputs": [
        {
          "output_type": "stream",
          "name": "stdout",
          "text": [
            "CPU times: user 16min 31s, sys: 16.3 s, total: 16min 47s\n",
            "Wall time: 10min 8s\n"
          ]
        }
      ]
    },
    {
      "cell_type": "code",
      "source": [
        "%%time\n",
        "for i  in range (10):\n",
        "  a = torch.randn([10000, 10000], device=cuda0)\n",
        "  b = torch.randn([10000, 10000], device=cuda0)\n",
        "  c = torch.matmul(a,b)"
      ],
      "metadata": {
        "colab": {
          "base_uri": "https://localhost:8080/"
        },
        "id": "79Sb4QDagpr4",
        "outputId": "66c07a99-f026-4509-b7f2-5cbbe80c4c17"
      },
      "execution_count": 25,
      "outputs": [
        {
          "output_type": "stream",
          "name": "stdout",
          "text": [
            "CPU times: user 32.1 ms, sys: 14.9 ms, total: 47.1 ms\n",
            "Wall time: 138 ms\n"
          ]
        }
      ]
    },
    {
      "cell_type": "code",
      "source": [],
      "metadata": {
        "id": "MKxAYRHBgph1"
      },
      "execution_count": null,
      "outputs": []
    },
    {
      "cell_type": "markdown",
      "source": [
        "# Autograd"
      ],
      "metadata": {
        "id": "S0lFLQlrgpeY"
      }
    },
    {
      "cell_type": "code",
      "source": [
        "x = torch.ones(5, requires_grad=True)\n",
        "print(x)\n"
      ],
      "metadata": {
        "colab": {
          "base_uri": "https://localhost:8080/"
        },
        "id": "TsfENspYhBkp",
        "outputId": "dbb8041e-225c-4b8a-c7ef-469b1726f016"
      },
      "execution_count": 27,
      "outputs": [
        {
          "output_type": "stream",
          "name": "stdout",
          "text": [
            "tensor([1., 1., 1., 1., 1.], requires_grad=True)\n"
          ]
        }
      ]
    },
    {
      "cell_type": "code",
      "source": [
        "x = torch.ones([3,2], requires_grad=True)\n",
        "print(x)"
      ],
      "metadata": {
        "colab": {
          "base_uri": "https://localhost:8080/"
        },
        "id": "7KX6MVWWmK6Z",
        "outputId": "d669572d-8913-4d97-c7cc-e0d4052b2896"
      },
      "execution_count": 28,
      "outputs": [
        {
          "output_type": "stream",
          "name": "stdout",
          "text": [
            "tensor([[1., 1.],\n",
            "        [1., 1.],\n",
            "        [1., 1.]], requires_grad=True)\n"
          ]
        }
      ]
    },
    {
      "cell_type": "code",
      "source": [
        "y = x + 5\n",
        "print(y)\n",
        "print(y.grad_fn)"
      ],
      "metadata": {
        "colab": {
          "base_uri": "https://localhost:8080/"
        },
        "id": "gg-7cezsmVSG",
        "outputId": "74f8d23b-5c1c-4281-ebaa-994807eae9ff"
      },
      "execution_count": 29,
      "outputs": [
        {
          "output_type": "stream",
          "name": "stdout",
          "text": [
            "tensor([[6., 6.],\n",
            "        [6., 6.],\n",
            "        [6., 6.]], grad_fn=<AddBackward0>)\n",
            "<AddBackward0 object at 0x78d5ac444d00>\n"
          ]
        }
      ]
    },
    {
      "cell_type": "code",
      "source": [
        "z = y * y +1\n",
        "print(z)"
      ],
      "metadata": {
        "colab": {
          "base_uri": "https://localhost:8080/"
        },
        "id": "llfOHwkjmXq2",
        "outputId": "9a16e56c-b382-46f0-8456-7fc7be3312d2"
      },
      "execution_count": 31,
      "outputs": [
        {
          "output_type": "stream",
          "name": "stdout",
          "text": [
            "tensor([[37., 37.],\n",
            "        [37., 37.],\n",
            "        [37., 37.]], grad_fn=<AddBackward0>)\n"
          ]
        }
      ]
    },
    {
      "cell_type": "code",
      "source": [
        "t =torch.sum(z)\n",
        "print(t)"
      ],
      "metadata": {
        "colab": {
          "base_uri": "https://localhost:8080/"
        },
        "id": "Ic-Ont5NmeVP",
        "outputId": "95e67ca3-1079-43f8-9f7b-9cf4594c3c86"
      },
      "execution_count": 32,
      "outputs": [
        {
          "output_type": "stream",
          "name": "stdout",
          "text": [
            "tensor(222., grad_fn=<SumBackward0>)\n"
          ]
        }
      ]
    },
    {
      "cell_type": "code",
      "source": [
        "t.backward()"
      ],
      "metadata": {
        "id": "FVVQAEOemqNi"
      },
      "execution_count": 33,
      "outputs": []
    },
    {
      "cell_type": "code",
      "source": [
        "print(x.grad)"
      ],
      "metadata": {
        "colab": {
          "base_uri": "https://localhost:8080/"
        },
        "id": "ureihkChmtxr",
        "outputId": "d84d56a8-00c8-4375-dbb5-90928aea21d3"
      },
      "execution_count": 34,
      "outputs": [
        {
          "output_type": "stream",
          "name": "stdout",
          "text": [
            "tensor([[12., 12.],\n",
            "        [12., 12.],\n",
            "        [12., 12.]])\n"
          ]
        }
      ]
    },
    {
      "cell_type": "markdown",
      "source": [
        "#\n",
        "$$ t = \\sum_{i} z_i,z_i = \\sum_{i} y_i^2 + 1, y_i = x_i + 5\n",
        "$$\n",
        "$$\\frac{\\partial t}{\\partial x_i} = \\frac{\\partial z_i}{\\partial x_i} = \\frac{\\partial y_i}{\\partial x_i} = 2y_i *1\n",
        "$$\n",
        "$$ At , x=1,  y=6,  \\frac{\\partial t}{\\partial x_i} = 12$$\n",
        "\n"
      ],
      "metadata": {
        "id": "Xkx8zHcEmvNz"
      }
    },
    {
      "cell_type": "code",
      "source": [
        "x = torch.ones([3,2], requires_grad=True)\n",
        "y = x + 5\n",
        "r = 1/(1+torch.exp(-y))\n",
        "print(r)\n",
        "s = torch.sum(r)\n",
        "s.backward()\n",
        "print(x.grad)\n"
      ],
      "metadata": {
        "colab": {
          "base_uri": "https://localhost:8080/"
        },
        "id": "peVfPCdHotw2",
        "outputId": "09cdac7c-ea33-465c-83c6-0ac728eea4c1"
      },
      "execution_count": 35,
      "outputs": [
        {
          "output_type": "stream",
          "name": "stdout",
          "text": [
            "tensor([[0.9975, 0.9975],\n",
            "        [0.9975, 0.9975],\n",
            "        [0.9975, 0.9975]], grad_fn=<MulBackward0>)\n",
            "tensor([[0.0025, 0.0025],\n",
            "        [0.0025, 0.0025],\n",
            "        [0.0025, 0.0025]])\n"
          ]
        }
      ]
    },
    {
      "cell_type": "code",
      "source": [
        "x = torch.ones([3,2], requires_grad=True)\n",
        "y = x + 5\n",
        "r = 1/(1+torch.exp(-y))\n",
        "a = torch.ones([3,2])\n",
        "r.backward(a)\n",
        "print(x.grad)"
      ],
      "metadata": {
        "colab": {
          "base_uri": "https://localhost:8080/"
        },
        "id": "IiigRMRnr944",
        "outputId": "286d28d0-2b41-41c7-bf6a-b4e196bfb873"
      },
      "execution_count": 36,
      "outputs": [
        {
          "output_type": "stream",
          "name": "stdout",
          "text": [
            "tensor([[0.0025, 0.0025],\n",
            "        [0.0025, 0.0025],\n",
            "        [0.0025, 0.0025]])\n"
          ]
        }
      ]
    },
    {
      "cell_type": "markdown",
      "source": [
        "$$ \\frac {\\partial s}{\\partial x} = \\frac{\\partial s}{\\partial r} . \\frac{\\partial r}{\\partial x} $$\n",
        "\n",
        "For the above code a represents $$ \\frac {\\partial s}{\\partial r} $$ and then x.grad gives directly $$ \\frac{\\partial s}{\\partial x} $$"
      ],
      "metadata": {
        "id": "Dtqw_0Pfsk3i"
      }
    },
    {
      "cell_type": "markdown",
      "source": [
        "# Autograd examples that looks like what we have been doing so far"
      ],
      "metadata": {
        "id": "amDVjBI5tYTL"
      }
    },
    {
      "cell_type": "code",
      "source": [
        "x = torch.randn([20, 1], requires_grad=True)\n",
        "y = 3 * x - 2\n",
        "print(x)\n",
        "print(y)"
      ],
      "metadata": {
        "id": "TSwCRliYt3tH"
      },
      "execution_count": null,
      "outputs": []
    },
    {
      "cell_type": "code",
      "source": [
        "w = torch.tensor([1.], requires_grad=True)\n",
        "b = torch.tensor([1.], requires_grad=True)\n",
        "\n",
        "y_hat = w * x + b\n",
        "loss = torch.sum(torch.pow(y_hat - y, 2.0))\n",
        "\n",
        "print(loss)\n",
        "loss.backward()\n",
        "print(w.grad)\n",
        "print(b.grad)"
      ],
      "metadata": {
        "colab": {
          "base_uri": "https://localhost:8080/"
        },
        "id": "fBKOt1nJv89Z",
        "outputId": "36046241-3fb2-4218-d84c-945dd2f5eb7a"
      },
      "execution_count": 38,
      "outputs": [
        {
          "output_type": "stream",
          "name": "stdout",
          "text": [
            "tensor(300.0010, grad_fn=<SumBackward0>)\n",
            "tensor([-95.3930])\n",
            "tensor([136.4053])\n"
          ]
        }
      ]
    },
    {
      "cell_type": "markdown",
      "source": [
        "# Do it in loop"
      ],
      "metadata": {
        "id": "aicYrvXfwRD0"
      }
    },
    {
      "cell_type": "code",
      "source": [
        "learning_rate = 0.01\n",
        "\n",
        "w = torch.tensor([1.], requires_grad=True)\n",
        "b = torch.tensor([1.], requires_grad=True)\n",
        "\n",
        "print(w.item(), b.item())\n",
        "\n",
        "for i in range(10):\n",
        "  x = torch.randn([20, 1])\n",
        "  y = 3 * x - 2\n",
        "\n",
        "  y_hat = w * x + b\n",
        "  loss = torch.sum(torch.pow(y_hat - y, 2.0))\n",
        "\n",
        "  loss.backward()\n",
        "\n",
        "  with torch.no_grad():\n",
        "      w -= learning_rate * w.grad\n",
        "      b -= learning_rate * b.grad\n",
        "\n",
        "      # Manually zero the gradients after running the backward pass\n",
        "      w.grad.zero_()\n",
        "      b.grad.zero_()\n",
        "  print(w.item(), b.item())"
      ],
      "metadata": {
        "colab": {
          "base_uri": "https://localhost:8080/"
        },
        "id": "svZ9ZC7ewT8-",
        "outputId": "1ea62ff6-21ea-4f9b-9cae-671e7e14fbf0"
      },
      "execution_count": 40,
      "outputs": [
        {
          "output_type": "stream",
          "name": "stdout",
          "text": [
            "1.0 1.0\n",
            "2.3520750999450684 -0.3464607000350952\n",
            "2.683164119720459 -1.0461140871047974\n",
            "2.67490291595459 -1.381699562072754\n",
            "2.7550041675567627 -1.6306308507919312\n",
            "2.835728645324707 -1.7580153942108154\n",
            "2.8592982292175293 -1.8461899757385254\n",
            "2.963571071624756 -1.9269379377365112\n",
            "2.990159511566162 -1.9600303173065186\n",
            "2.996389150619507 -1.9766826629638672\n",
            "2.9960744380950928 -1.9857265949249268\n"
          ]
        }
      ]
    },
    {
      "cell_type": "markdown",
      "source": [
        "# Do it for a large problem"
      ],
      "metadata": {
        "id": "Ow0YAJ5ky5hO"
      }
    },
    {
      "cell_type": "code",
      "source": [
        "%%time\n",
        "learning_rate = 0.0001  # Reduced learning rate\n",
        "N = 100\n",
        "epochs = 2000\n",
        "\n",
        "w = torch.tensor(1., requires_grad=True)\n",
        "b = torch.tensor(1., requires_grad=True)\n",
        "\n",
        "print(w.item(), b.item())\n",
        "\n",
        "for i in range(epochs):\n",
        "  x = torch.randn(N)\n",
        "  y = torch.sum(3 * torch.ones(N) * x) - 2\n",
        "\n",
        "  y_hat = torch.sum(w * x) + b\n",
        "  loss = torch.sum((y_hat - y) ** 2.0)\n",
        "\n",
        "  loss.backward()\n",
        "\n",
        "  with torch.no_grad():\n",
        "      w -= learning_rate * w.grad\n",
        "      b -= learning_rate * b.grad\n",
        "\n",
        "      # Manually zero the gradients after updating\n",
        "      w.grad.zero_()\n",
        "      b.grad.zero_()\n",
        "  print(w.item(), b.item())\n"
      ],
      "metadata": {
        "id": "6rZuEaf21AMn"
      },
      "execution_count": null,
      "outputs": []
    },
    {
      "cell_type": "code",
      "source": [
        "%%time\n",
        "learning_rate = 0.0000001  # Reduced learning rate\n",
        "N = 1000000\n",
        "epochs = 2000\n",
        "\n",
        "w = torch.tensor(1., requires_grad=True, device=cuda0)\n",
        "b = torch.tensor(1., requires_grad=True, device=cuda0)\n",
        "\n",
        "print(w.item(), b.item())\n",
        "\n",
        "for i in range(epochs):\n",
        "  x = torch.randn(N, device=cuda0)\n",
        "  y = torch.sum(3 * torch.ones([N ], device=cuda0) * x) - 2\n",
        "\n",
        "  y_hat = torch.sum(w * x) + b\n",
        "  loss = torch.sum((y_hat - y) ** 2.0)\n",
        "\n",
        "  loss.backward()\n",
        "\n",
        "  with torch.no_grad():\n",
        "      w -= learning_rate * w.grad\n",
        "      b -= learning_rate * b.grad\n",
        "\n",
        "      # Manually zero the gradients after updating\n",
        "      w.grad.zero_()\n",
        "      b.grad.zero_()\n",
        "  print(w.item(), b.item())\n"
      ],
      "metadata": {
        "id": "B7yYB2SY3Swy"
      },
      "execution_count": null,
      "outputs": []
    },
    {
      "cell_type": "code",
      "source": [],
      "metadata": {
        "id": "c_oylSdh4Kbp"
      },
      "execution_count": null,
      "outputs": []
    }
  ]
}